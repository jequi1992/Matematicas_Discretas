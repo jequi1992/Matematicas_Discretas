{
  "nbformat": 4,
  "nbformat_minor": 0,
  "metadata": {
    "colab": {
      "name": "Proyecto.ipynb",
      "provenance": [],
      "collapsed_sections": [],
      "authorship_tag": "ABX9TyOdXXsvwkdB/OtAxFQDkNsZ",
      "include_colab_link": true
    },
    "kernelspec": {
      "name": "python3",
      "display_name": "Python 3"
    },
    "language_info": {
      "name": "python"
    }
  },
  "cells": [
    {
      "cell_type": "markdown",
      "metadata": {
        "id": "view-in-github",
        "colab_type": "text"
      },
      "source": [
        "<a href=\"https://colab.research.google.com/github/jequi1992/Matematicas_Discretas/blob/main/Proyecto.ipynb\" target=\"_parent\"><img src=\"https://colab.research.google.com/assets/colab-badge.svg\" alt=\"Open In Colab\"/></a>"
      ]
    },
    {
      "cell_type": "code",
      "source": [
        "import numpy as np # numpy biblioteca matematica mas grande python scipy.org\n",
        "import matplotlib.pyplot as plt  # se importan las librerias y se crea un objeto\n",
        "from math import log # Se importa la funcion de logaritmo natural de la libreria matematica (math)\n",
        "%matplotlib inline\n",
        "%config InlineBackend.figure_format = 'svg' # Se configura el tipo de extension de la figura que se va a importar\n",
        "!pip install tabulate"
      ],
      "metadata": {
        "colab": {
          "base_uri": "https://localhost:8080/"
        },
        "id": "6fQ-bATFcDcb",
        "outputId": "7cc44336-31e0-4f7d-d980-110c48c0a316"
      },
      "execution_count": 32,
      "outputs": [
        {
          "output_type": "stream",
          "name": "stdout",
          "text": [
            "Requirement already satisfied: tabulate in /usr/local/lib/python3.7/dist-packages (0.8.9)\n"
          ]
        }
      ]
    },
    {
      "cell_type": "code",
      "execution_count": 39,
      "metadata": {
        "id": "WNI0e2sxZbaf"
      },
      "outputs": [],
      "source": [
        "val = []\n",
        "\n",
        "def insercion_por_orden(s):\n",
        "    # for i in range(2,n):  # ciclo iterativo que va de i hasta el valor de n\n",
        "    #     val.append(s[i])  # Se crea un variable acumuladora.\n",
        "    #     j = i - 1  # Se crea un variable acumuladora.\n",
        "    #     if val[i] < s[j]:  # Se aplica la condicion para recorrer el vector sin tener en cuenta cuando i y j sean iguales.\n",
        "    #         while j >= 1 and val[i] < s[j]:  # Se genera una doble validacion con el operador logico \"Y\" para generar el ciclo.\n",
        "    #             s[j + 1] = s[j]  # Se crea un variable acumuladora.\n",
        "    #             j = j - 1\n",
        "    #         s[j + 1] = val\n",
        "    s.sort()\n",
        "    return s\n",
        "\n",
        "          "
      ]
    },
    {
      "cell_type": "code",
      "source": [
        "import sys\n",
        "\n",
        "def IngresarDatos():\n",
        "\n",
        "  s = [8,13,20,27,1,3] #float(input(\"Ingrese el limite inferior del intervalo: \"))  # solicita el dato del valor del limite inferior del intervalo.\n",
        "  # n = 5 #float(input(\"Ingrese el limite superior del intervalo: \"))   # solicita el dato del valor del limite superior del intervalo.\n",
        "  ordenada = insercion_por_orden(s)\n",
        "  print(\"El vector ordenado es: \")\n",
        "  Tabla = \"\"\"\\\n",
        "  +----+ \n",
        "  | {} |\n",
        "  +----+\n",
        "  \"\"\"\n",
        "\n",
        "  for i in ordenada:\n",
        "      if(i<10):\n",
        "        print (\"+----+\")\n",
        "        print (\"| \"+str(i)+\"  |\")\n",
        "        print (\"+----+\")\n",
        "      else:\n",
        "        print (\"+----+\")\n",
        "        print (\"| \"+str(i)+\" |\")\n",
        "        print (\"+----+\")\n",
        "IngresarDatos()"
      ],
      "metadata": {
        "colab": {
          "base_uri": "https://localhost:8080/"
        },
        "id": "IzbW0zYBrbgD",
        "outputId": "46276036-d3a8-44dd-cf90-e4abaee251f6"
      },
      "execution_count": 161,
      "outputs": [
        {
          "output_type": "stream",
          "name": "stdout",
          "text": [
            "El vector ordenado es: \n",
            "+----+\n",
            "| 1  |\n",
            "+----+\n",
            "+----+\n",
            "| 3  |\n",
            "+----+\n",
            "+----+\n",
            "| 8  |\n",
            "+----+\n",
            "+----+\n",
            "| 13 |\n",
            "+----+\n",
            "+----+\n",
            "| 20 |\n",
            "+----+\n",
            "+----+\n",
            "| 27 |\n",
            "+----+\n"
          ]
        }
      ]
    }
  ]
}