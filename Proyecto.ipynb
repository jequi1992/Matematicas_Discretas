{
  "nbformat": 4,
  "nbformat_minor": 0,
  "metadata": {
    "colab": {
      "name": "Proyecto.ipynb",
      "provenance": [],
      "collapsed_sections": [],
      "authorship_tag": "ABX9TyOczxqjdGEiGP0Vj5c+tOn2",
      "include_colab_link": true
    },
    "kernelspec": {
      "name": "python3",
      "display_name": "Python 3"
    },
    "language_info": {
      "name": "python"
    }
  },
  "cells": [
    {
      "cell_type": "markdown",
      "metadata": {
        "id": "view-in-github",
        "colab_type": "text"
      },
      "source": [
        "<a href=\"https://colab.research.google.com/github/jequi1992/Matematicas_Discretas/blob/main/Proyecto.ipynb\" target=\"_parent\"><img src=\"https://colab.research.google.com/assets/colab-badge.svg\" alt=\"Open In Colab\"/></a>"
      ]
    },
    {
      "cell_type": "code",
      "source": [
        "import numpy as np # numpy biblioteca matematica mas grande python scipy.org\n",
        "import matplotlib.pyplot as plt  # se importan las librerias y se crea un objeto\n",
        "from math import log # Se importa la funcion de logaritmo natural de la libreria matematica (math)\n",
        "%matplotlib inline\n",
        "%config InlineBackend.figure_format = 'svg' # Se configura el tipo de extension de la figura que se va a importar"
      ],
      "metadata": {
        "id": "6fQ-bATFcDcb"
      },
      "execution_count": 1,
      "outputs": []
    },
    {
      "cell_type": "code",
      "execution_count": null,
      "metadata": {
        "id": "WNI0e2sxZbaf"
      },
      "outputs": [],
      "source": [
        "def insercion_por_orden(s, n):\n",
        "    for i in range(2, n):  # ciclo iterativo que va de i hasta el valor de n\n",
        "        val = s[i]  # Se crea un variable acumuladora.\n",
        "        j = i - 1  # Se crea un variable acumuladora.\n",
        "        if val < s[j]:  # Se aplica la condicion para recorrer el vector sin tener en cuenta cuando i y j sean iguales.\n",
        "            while j >= 1 or val < s:  # Se genera una doble validacion con el operador logico \"Y\" para generar el ciclo.\n",
        "                s[j + 1] = s[j]  # Se crea un variable acumuladora.\n",
        "                j = j - 1\n",
        "            s[j + 1] = val\n",
        "\n",
        "          "
      ]
    },
    {
      "cell_type": "code",
      "source": [
        "insercion_por_orden(s,n)"
      ],
      "metadata": {
        "id": "EDQNwdyTbZ9m"
      },
      "execution_count": null,
      "outputs": []
    }
  ]
}