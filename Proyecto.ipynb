{
  "nbformat": 4,
  "nbformat_minor": 0,
  "metadata": {
    "colab": {
      "name": "Proyecto.ipynb",
      "provenance": [],
      "collapsed_sections": [],
      "authorship_tag": "ABX9TyNz8c6yNmgkrBhWfsT1K216",
      "include_colab_link": true
    },
    "kernelspec": {
      "name": "python3",
      "display_name": "Python 3"
    },
    "language_info": {
      "name": "python"
    }
  },
  "cells": [
    {
      "cell_type": "markdown",
      "metadata": {
        "id": "view-in-github",
        "colab_type": "text"
      },
      "source": [
        "<a href=\"https://colab.research.google.com/github/jequi1992/Matematicas_Discretas/blob/main/Proyecto.ipynb\" target=\"_parent\"><img src=\"https://colab.research.google.com/assets/colab-badge.svg\" alt=\"Open In Colab\"/></a>"
      ]
    },
    {
      "cell_type": "code",
      "source": [
        "import numpy as np # numpy biblioteca matematica mas grande python scipy.org\n",
        "import matplotlib.pyplot as plt  # se importan las librerias y se crea un objeto\n",
        "from math import log # Se importa la funcion de logaritmo natural de la libreria matematica (math)\n",
        "%matplotlib inline\n",
        "%config InlineBackend.figure_format = 'svg' # Se configura el tipo de extension de la figura que se va a importar\n",
        "!pip install tabulate"
      ],
      "metadata": {
        "colab": {
          "base_uri": "https://localhost:8080/"
        },
        "id": "6fQ-bATFcDcb",
        "outputId": "d177450b-38e8-49f4-dc43-fa3a36dee781"
      },
      "execution_count": 10,
      "outputs": [
        {
          "output_type": "stream",
          "name": "stdout",
          "text": [
            "Requirement already satisfied: tabulate in /usr/local/lib/python3.7/dist-packages (0.8.9)\n"
          ]
        }
      ]
    },
    {
      "cell_type": "code",
      "execution_count": 9,
      "metadata": {
        "id": "WNI0e2sxZbaf"
      },
      "outputs": [],
      "source": [
        "val = []\n",
        "\n",
        "def insercion_por_orden(s): # Se define la función con un parametro tipo vector\n",
        "    # for i in range(2,n):  # ciclo iterativo que va de i hasta el valor de n\n",
        "    #     val.append(s[i])  # Se crea un variable acumuladora.\n",
        "    #     j = i - 1  # Se crea un variable acumuladora.\n",
        "    #     if val[i] < s[j]:  # Se aplica la condicion para recorrer el vector sin tener en cuenta cuando i y j sean iguales.\n",
        "    #         while j >= 1 and val[i] < s[j]:  # Se genera una doble validacion con el operador logico \"Y\" para generar el ciclo.\n",
        "    #             s[j + 1] = s[j]  # Se crea un variable acumuladora.\n",
        "    #             j = j - 1\n",
        "    #         s[j + 1] = val\n",
        "    s.sort() # Se ordena crecientemente el vector\n",
        "    return s # Se devuelve el vector organizado\n",
        "\n",
        "          "
      ]
    },
    {
      "cell_type": "code",
      "source": [
        "s = [] # Se declara la variable como array\n",
        "\n",
        "def IngresarDatos(continuar): # Se define la funcion con un parametro tipo cadena\n",
        "  j=0 # Se inicializa la variable del contador\n",
        "  while continuar==\"SI\": # Se condiciona el ciclo para conocer la decision del usuario\n",
        "    j=j+1 # Se genera el contador\n",
        "    s.append(int(input(\"Ingrese el numero \"+str(j)))) # Se agrega el valor ingresado al vector en la ultima posición\n",
        "    ordenada = insercion_por_orden(s) # Se define una variable para capturar el valor retornado de la funcion invocada con su respectivo parametro\n",
        "    print(\"El vector ordenado es: \") # Se muestra este mensaje por pantalla\n",
        "    for i in ordenada: # Se recorre el vector ordenado\n",
        "        if(i<10): # Se genera la condicion para identificar si el valor ingresado es de 1 digito o 2 digitos\n",
        "          print (\"+----+\") # Se muestra mensaje por pantalla\n",
        "          print (\"| \"+str(i)+\"  |\") # Se muestra mensaje por pantalla\n",
        "          print (\"+----+\") # Se muestra mensaje por pantalla\n",
        "        else:\n",
        "          print (\"+----+\") # Se muestra mensaje por pantalla\n",
        "          print (\"| \"+str(i)+\" |\") # Se muestra mensaje por pantalla\n",
        "          print (\"+----+\") # Se muestra mensaje por pantalla\n",
        "    continuar= input(\"¿Desea continuar? SI/NO  \") # Esta condicion me permite continuar en el ciclo para ingresar mas valores al vector.\n",
        "    \n",
        "IngresarDatos(\"SI\") # Se invoca la funcion y se envia con un parametro tipo String"
      ],
      "metadata": {
        "id": "IzbW0zYBrbgD"
      },
      "execution_count": null,
      "outputs": []
    }
  ]
}